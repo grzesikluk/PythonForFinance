{
 "cells": [
  {
   "cell_type": "heading",
   "metadata": {},
   "level": 1,
   "source": []
  },
  {
   "cell_type": "heading",
   "metadata": {},
   "level": 1,
   "source": [
    "Pickle data"
   ]
  },
  {
   "cell_type": "code",
   "execution_count": 3,
   "metadata": {},
   "outputs": [],
   "source": [
    "from pylab import plt, mpl\n",
    "plt.style.use('seaborn')\n",
    "mpl.rcParams['font.family'] = 'serif'\n",
    "%matplotlib inline"
   ]
  },
  {
   "cell_type": "code",
   "execution_count": 9,
   "metadata": {},
   "outputs": [],
   "source": [
    "import pickle\n",
    "import numpy as np\n",
    "from random import gauss\n",
    "a = [gauss(1.5, 2) for i in range(1000000)]\n",
    "path = '//notebooks/data/'\n",
    "pkl_file = open(path + 'data.pkl', 'wb')"
   ]
  },
  {
   "cell_type": "code",
   "execution_count": 10,
   "metadata": {},
   "outputs": [
    {
     "name": "stdout",
     "output_type": "stream",
     "text": [
      "CPU times: user 30 ms, sys: 10 ms, total: 40 ms\nWall time: 104 ms\nCPU times: user 50 ms, sys: 20 ms, total: 70 ms\nWall time: 78.5 ms\n[-0.7859586391987876, 1.3266552753095084, -1.7499642330277565]\n[-0.7859586391987876, 1.3266552753095084, -1.7499642330277565]\n"
     ]
    },
    {
     "data": {
      "text/plain": [
       "True"
      ]
     },
     "execution_count": 10,
     "metadata": {},
     "output_type": "execute_result"
    }
   ],
   "source": [
    "%time pickle.dump(a, pkl_file)\n",
    "pkl_file.close()\n",
    "pkl_file = open(path + 'data.pkl', 'rb')\n",
    "%time b = pickle.load(pkl_file)\n",
    "print(a[:3])\n",
    "print(b[:3])\n",
    "np.allclose(np.array(a), np.array(b))"
   ]
  },
  {
   "cell_type": "code",
   "execution_count": 11,
   "metadata": {},
   "outputs": [
    {
     "name": "stdout",
     "output_type": "stream",
     "text": [
      "CPU times: user 40 ms, sys: 0 ns, total: 40 ms\nWall time: 89.4 ms\nCPU times: user 30 ms, sys: 10 ms, total: 40 ms\nWall time: 84.9 ms\n"
     ]
    }
   ],
   "source": [
    "pkl_file = open(path + 'data.pkl', 'wb')\n",
    "%time pickle.dump(np.array(a), pkl_file)\n",
    "%time pickle.dump(np.array(a) ** 2, pkl_file)\n",
    "pkl_file.close()"
   ]
  },
  {
   "cell_type": "code",
   "execution_count": 14,
   "metadata": {},
   "outputs": [
    {
     "name": "stdout",
     "output_type": "stream",
     "text": [
      "[-0.78595864  1.32665528 -1.74996423  1.49939274]\n[ 0.61773098  1.76001422  3.06237482  2.2481786 ]\n"
     ]
    }
   ],
   "source": [
    "pkl_file = open(path + 'data.pkl', 'rb')\n",
    "x = pickle.load(pkl_file)\n",
    "print(x[:4])\n",
    "y = pickle.load(pkl_file)\n",
    "print(y[:4])\n",
    "pkl_file.close()"
   ]
  },
  {
   "cell_type": "code",
   "execution_count": 15,
   "metadata": {},
   "outputs": [
    {
     "name": "stdout",
     "output_type": "stream",
     "text": [
      "x [-0.78595864  1.32665528 -1.74996423  1.49939274]\ny [ 0.61773098  1.76001422  3.06237482  2.2481786 ]\n"
     ]
    }
   ],
   "source": [
    "pkl_file = open(path + 'data.pkl', 'wb')\n",
    "pickle.dump({'x': x, 'y': y}, pkl_file)\n",
    "pkl_file.close()\n",
    "\n",
    "pkl_file = open(path + 'data.pkl', 'rb')\n",
    "data = pickle.load(pkl_file)\n",
    "pkl_file.close()\n",
    "for key in data.keys():\n",
    "    print(key, data[key][:4])"
   ]
  },
  {
   "cell_type": "heading",
   "metadata": {},
   "level": 1,
   "source": [
    "Reading and Writing Text Files"
   ]
  },
  {
   "cell_type": "code",
   "execution_count": 21,
   "metadata": {},
   "outputs": [],
   "source": [
    "import pandas as pd\n",
    "rows = 5000 \n",
    "a = np.random.standard_normal((rows, 5)).round(4)\n",
    "t = pd.date_range(start='2019/1/1', periods=rows, freq='H')"
   ]
  },
  {
   "cell_type": "code",
   "execution_count": 22,
   "metadata": {},
   "outputs": [],
   "source": [
    "csv_file = open(path + 'data.csv', 'w')\n",
    "header = 'date,no1,no2,no3,no4,no5\\n'\n",
    "csv_file.write(header)\n",
    "\n",
    "for t_, (no1, no2, no3, no4, no5) in zip(t, a): \n",
    "    s = '{},{},{},{},{},{}\\n'.format(t_, no1, no2, no3, no4, no5)\n",
    "    csv_file.write(s)\n",
    "csv_file.close()\n",
    "\n"
   ]
  },
  {
   "cell_type": "code",
   "execution_count": 24,
   "metadata": {},
   "outputs": [
    {
     "name": "stdout",
     "output_type": "stream",
     "text": [
      "date,no1,no2,no3,no4,no5\n\n2019-01-01 00:00:00,0.2373,-2.3086,-0.0641,-0.0341,-1.1878\n\n2019-01-01 01:00:00,1.2024,-1.3355,0.1463,0.2099,-1.1973\n\n2019-01-01 02:00:00,0.4556,0.872,1.0395,-0.6146,0.2404\n\n2019-01-01 03:00:00,0.2589,0.4859,-0.1589,1.4742,-0.0712\n\n"
     ]
    }
   ],
   "source": [
    "csv_file = open(path + 'data.csv', 'r')\n",
    "for i in range(5):\n",
    "    print(csv_file.readline())\n",
    "csv_file.close()"
   ]
  },
  {
   "cell_type": "code",
   "execution_count": 27,
   "metadata": {},
   "outputs": [
    {
     "name": "stdout",
     "output_type": "stream",
     "text": [
      "['date,no1,no2,no3,no4,no5\\n', '2019-01-01 00:00:00,0.2373,-2.3086,-0.0641,-0.0341,-1.1878\\n', '2019-01-01 01:00:00,1.2024,-1.3355,0.1463,0.2099,-1.1973\\n', '2019-01-01 02:00:00,0.4556,0.872,1.0395,-0.6146,0.2404\\n', '2019-01-01 03:00:00,0.2589,0.4859,-0.1589,1.4742,-0.0712\\n']\n"
     ]
    }
   ],
   "source": [
    "csv_file = open(path + 'data.csv', 'r')\n",
    "content = csv_file.readlines()\n",
    "print(content[:5])\n",
    "csv_file.close()"
   ]
  },
  {
   "cell_type": "code",
   "execution_count": 30,
   "metadata": {},
   "outputs": [
    {
     "name": "stdout",
     "output_type": "stream",
     "text": [
      "[OrderedDict([('date', '2019-01-01 00:00:00'), ('no1', '0.2373'), ('no2', '-2.3086'), ('no3', '-0.0641'), ('no4', '-0.0341'), ('no5', '-1.1878')]), OrderedDict([('date', '2019-01-01 01:00:00'), ('no1', '1.2024'), ('no2', '-1.3355'), ('no3', '0.1463'), ('no4', '0.2099'), ('no5', '-1.1973')]), OrderedDict([('date', '2019-01-01 02:00:00'), ('no1', '0.4556'), ('no2', '0.872'), ('no3', '1.0395'), ('no4', '-0.6146'), ('no5', '0.2404')]), OrderedDict([('date', '2019-01-01 03:00:00'), ('no1', '0.2589'), ('no2', '0.4859'), ('no3', '-0.1589'), ('no4', '1.4742'), ('no5', '-0.0712')]), OrderedDict([('date', '2019-01-01 04:00:00'), ('no1', '-0.3718'), ('no2', '-1.8967'), ('no3', '1.8125'), ('no4', '0.9831'), ('no5', '-0.6105')])]\n"
     ]
    }
   ],
   "source": [
    "import csv\n",
    "\n",
    "with open(path + 'data.csv', 'r') as f:\n",
    "    csv_reader = csv.DictReader(f)\n",
    "    lines = [line for line in csv_reader]\n",
    "print(lines[0:5])"
   ]
  },
  {
   "cell_type": "code",
   "execution_count": 32,
   "metadata": {},
   "outputs": [],
   "source": [
    "!rm -f $path/data.csv"
   ]
  },
  {
   "cell_type": "heading",
   "metadata": {},
   "level": 1,
   "source": [
    "Working with SQL databases\n"
   ]
  },
  {
   "cell_type": "code",
   "execution_count": null,
   "metadata": {},
   "outputs": [],
   "source": []
  }
 ],
 "metadata": {
  "kernelspec": {
   "display_name": "Python 2",
   "language": "python",
   "name": "python2"
  },
  "language_info": {
   "codemirror_mode": {
    "name": "ipython",
    "version": 2
   },
   "file_extension": ".py",
   "mimetype": "text/x-python",
   "name": "python",
   "nbconvert_exporter": "python",
   "pygments_lexer": "ipython2",
   "version": "2.7.6"
  }
 },
 "nbformat": 4,
 "nbformat_minor": 0
}
